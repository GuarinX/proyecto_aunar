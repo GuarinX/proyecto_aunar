{
 "cells": [
  {
   "cell_type": "markdown",
   "id": "ff130eb0-0254-47f5-a8ec-b25619e03640",
   "metadata": {},
   "source": [
    "# **Análisis Descriptivo: Medidas de tendencia central**\n",
    "Las medidas de tendencia central son estadísticas que representan un valor típico o central en un conjunto de datos. Son útiles para resumir la distribución de los datos en una sola cantidad.\n",
    "\n",
    "Es importante que no todas las medidas de tendencia son aplicables a los dos tipos de variables, numéricas y categóricas, y que también algunas de ellas son más susceptibles a los valores extremos (outliers).\n",
    "\n",
    "**Medidas de tendencia:**\n",
    "\n",
    "1. **Media Aritmética:** La media aritmética es el promedio de un conjunto de números. Se calcula sumando todos los valores del conjunto y dividiendo el resultado entre la cantidad total de valores. Es una medida de tendencia al que representa el valor promedio del conjunto de datos.\n",
    "2. **Media Geométrica:** La media geométrica es una medida de tendencia central que se utiliza principalmente para comparar tasas de crecimiento o proporciones. Se calcula multiplicando todos los valores del conjunto y luego tomando la raíz n-ésima del producto, donde n es la cantidad de valores. Se usa especialmente cuando los datos son de naturaleza multiplicativa.\n",
    "3. **Media Armónica:** La media armónica es una medida de tendencia central que se utiliza cuando los valores del conjunto están relacionados con tasas o velocidades. Se calcula como el recíproco de la media aritmética de los recíprocos de los valores. Es más apropiada cuando se trata de promediar magnitudes inversas.\n",
    "4. **Media Ponderada:** La media ponderada es una medida de tendencia central en la que cada valor en el conjunto de datos tiene un peso o importancia diferente. Se calcula multiplicando cada valor por su peso correspondiente sumando esos productos y luego dividiendo el total por la suma de los pesos. Es útil cuando ciertos valores tienen más relevancia que otros.\n",
    "5. **Mediana:** La mediana es el valor que se encuentra en el centro de un conjunto de datos ordenado. Si el número de valores es impar, la mediana es el valor medio. Si es par, es el promedio de los dos valores centrales. La mediana es una medida de tendencia central que no se ve afectada por valores atípicos.\n",
    "6. **Moda:** La moda es el valor o valores que aparecen con mayor frecuencia en un conjunto de datos. Un conjunto de datos puede tener una única moda (unimodal), más de una moda (multimodal) o ninguna moda si todos los valores ocurren con la misma frecuencia.\n",
    "7. **Error típico o desviación estándar:** La desviación estándar es una medida de dispersión que indica cuánto se separan los valores de un conjunto de datos respecto a su media aritmética. Un valor de desviación estándar bajo indica que los datos están agrupados cerca de la media, mientras que un valor alto indica que los datos están más dispersos. Es una medida comúnmente utilizada para evaluar la variabilidad o consistencia de un conjunto de datos.\n",
    "\n",
    "![MEDIDAS DE TENDENCIA](media/figure_1.png)\n",
    "\n",
    "># `Aplicación y notas en Python`\n",
    "Importamos el datframe\n",
    "```python\n",
    "import pandas as pd\n",
    "df = pd.read_csv('cars.csv')\n",
    "```\n",
    "Inspeccionemos y seleccionamos un atributo (variable numérica continua) de los listados en el dataset para aplicar:\n",
    "* Media o promedio → mean(df)\n",
    "* Mediana → median(df)\n",
    "* Moda → mode(df)\n",
    "```python\n",
    "//Media\n",
    "df['price_usd'].mean()\n",
    "```\n",
    "\n",
    "```python\n",
    "//grafico en pandas de un histograma de frecuecncia en pandas\n",
    "import pandas as pd\n",
    "import numpy as np\n",
    "import matplotlib.pyplot as plt\n",
    "\n",
    "//Crear un DataFrame de ejemplo con datos aleatorios\n",
    "np.random.seed(42)\n",
    "data = {\n",
    "    'age': np.random.randint(18, 70, size=100)\n",
    "}\n",
    "\n",
    "df = pd.DataFrame(data)\n",
    "\n",
    "//Generar el histograma de la columna 'age'\n",
    "df['age'].plot.hist(bins=20, alpha=0.7, color='blue')\n",
    "plt.title('Histograma de Edades')\n",
    "plt.xlabel('Edad')\n",
    "plt.ylabel('Frecuencia')\n",
    "plt.grid(axis='y', alpha=0.75)  \n",
    "\n",
    "//Muestra el gráfico\n",
    "plt.show()  \n",
    "```\n",
    "![MEDIDAS DE TENDENCIA](media/figure_2.png)\n"
   ]
  }
 ],
 "metadata": {
  "kernelspec": {
   "display_name": "Python 3 (ipykernel)",
   "language": "python",
   "name": "python3"
  },
  "language_info": {
   "codemirror_mode": {
    "name": "ipython",
    "version": 3
   },
   "file_extension": ".py",
   "mimetype": "text/x-python",
   "name": "python",
   "nbconvert_exporter": "python",
   "pygments_lexer": "ipython3",
   "version": "3.12.6"
  }
 },
 "nbformat": 4,
 "nbformat_minor": 5
}
